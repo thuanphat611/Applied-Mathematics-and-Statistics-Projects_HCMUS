{
 "cells": [
  {
   "cell_type": "markdown",
   "metadata": {},
   "source": [
    "# <center>Đồ án 3: Linear Regression</center>"
   ]
  },
  {
   "cell_type": "markdown",
   "metadata": {},
   "source": [
    "# Thông tin sinh viên\n",
    "\n",
    "- Họ và tên: Nguyễn Thuận Phát\n",
    "- MSSV: 21127665\n",
    "- Lớp: 21CLC08"
   ]
  },
  {
   "cell_type": "markdown",
   "metadata": {},
   "source": [
    "# Import"
   ]
  },
  {
   "cell_type": "code",
   "execution_count": 1398,
   "metadata": {},
   "outputs": [],
   "source": [
    "import pandas as pd\n",
    "import numpy as np\n",
    "import math #làm tròn số\n",
    "\n",
    "# Import thêm dữ thư viện nếu cần"
   ]
  },
  {
   "cell_type": "markdown",
   "metadata": {},
   "source": [
    "# Đọc dữ liệu"
   ]
  },
  {
   "cell_type": "code",
   "execution_count": 1399,
   "metadata": {},
   "outputs": [],
   "source": [
    "# Đọc dữ liệu bằng pandas\n",
    "train = pd.read_csv('train.csv')\n",
    "test = pd.read_csv('test.csv')\n",
    "\n",
    "# Lấy các đặc trưng X và giá trị mục tiêu y cho các tập huấn luyện (train) và kiểm tra (test)\n",
    "X_train = train.iloc[:, :-1]    # Dataframe (chứa các đặc trưng huấn luyện)\n",
    "y_train = train.iloc[:, -1]     # Series    (chứa 1 giá trị mục tiêu kiểm tra)\n",
    "\n",
    "X_test = test.iloc[:, :-1]      # Dataframe (chứa các đặc trưng kiểm tra)\n",
    "y_test = test.iloc[:, -1]       # Series    (chứa 1 giá trị mục tiêu kiểm tra)\n",
    "\n",
    "# Sinh viên có thể sử dụng các khác nếu cần\n",
    "X_train_1a = train.iloc[:, :11]\n",
    "X_test_1a = test.iloc[:, :11]\n",
    "dataset_1b = train.iloc[:, 18:24]#5 cột yêu cầu và cột salary\n",
    "dataset_1c = pd.concat([train.iloc[:, 7:10], train.iloc[:, -1]], axis = 1)#3 cột yêu cầu và cột salary\n",
    "train_Quant_col = train[['Quant']]\n",
    "train_10percentage_col = train[['10percentage']]\n",
    "train_12percentage_col = train[['12percentage']]\n",
    "train_Salary_col = train[['Salary']]\n",
    "X_train_1d_1 = train[['Quant', '10percentage', '12percentage', 'Logical', 'collegeGPA', 'English', 'CollegeTier', 'Degree', 'Gender', 'ComputerProgramming']]\n",
    "X_test_1d_1 = test[['Quant', '10percentage', '12percentage', 'Logical', 'collegeGPA', 'English', 'CollegeTier', 'Degree', 'Gender', 'ComputerProgramming']]"
   ]
  },
  {
   "cell_type": "markdown",
   "metadata": {},
   "source": [
    "# Cài đặt hàm"
   ]
  },
  {
   "cell_type": "code",
   "execution_count": 1400,
   "metadata": {},
   "outputs": [],
   "source": [
    "# Cài đặt các hàm cần thiết ở đây\n",
    "\n",
    "#các hàm, class lấy từ lab04.ipynb\n",
    "def mae(y, y_hat):\n",
    "    return np.mean(np.abs(y.ravel() - y_hat.ravel()))\n",
    "\n",
    "class OLSLinearRegression:\n",
    "    def fit(self, X, y):\n",
    "        X_pinv = np.linalg.inv(X.T @ X) @ X.T    # np.linalg.pinv(X)\n",
    "        self.w = X_pinv @ y\n",
    "\n",
    "        return self\n",
    "\n",
    "\n",
    "    def get_params(self):\n",
    "        return self.w\n",
    "\n",
    "\n",
    "    def predict(self, X):\n",
    "        return np.sum(self.w.ravel() * X, axis=1) \n",
    "\n",
    "def k_foldCrossValidation(dataset, k = 10):\n",
    "    foldSize = math.ceil(dataset.shape[0] / k)\n",
    "    shuffledDataset = dataset.sample(frac = 1)#xáo trộn dữ liệu\n",
    "\n",
    "    #chia dataset thành k fold\n",
    "    folds = []\n",
    "    for i in range(k):\n",
    "        folds.append(shuffledDataset.iloc[i * foldSize : i * foldSize + foldSize])\n",
    "    \n",
    "    mae_list = []\n",
    "    #duyệt lần lượt từng fold\n",
    "    for current in range(len(folds)):\n",
    "        #fold hiện tại dùng để test\n",
    "        fold_X_test = folds[current].iloc[:, :-1].to_numpy()\n",
    "        fold_y_test = folds[current].iloc[:, -1].to_frame().to_numpy()\n",
    "\n",
    "        #ghép các folds còn lại thành train dataset\n",
    "        otherFolds = []\n",
    "        for other in range(len(folds)):\n",
    "            if other != current:\n",
    "                otherFolds.append(folds[other])\n",
    "        otherFolds = pd.concat([f for f in otherFolds])\n",
    "\n",
    "        fold_X_train = otherFolds.iloc[:, :-1].to_numpy()\n",
    "        fold_y_train = otherFolds.iloc[:, -1].to_frame().to_numpy()\n",
    "\n",
    "        fold_lr = OLSLinearRegression().fit(fold_X_train, fold_y_train)\n",
    "        fold_pred = fold_lr.predict(fold_X_test)\n",
    "\n",
    "        #lưu độ lỗi các lần lặp vào 1 list rồi sau đó tính trung bình để đánh giá đặc trưng\n",
    "        mae_list.append(mae(fold_y_test, fold_pred))\n",
    "\n",
    "        #hủy mô hình \n",
    "        fold_lr = 0\n",
    "\n",
    "    return np.mean(mae_list, axis = 0)\n",
    "    "
   ]
  },
  {
   "cell_type": "markdown",
   "metadata": {},
   "source": [
    "# Yêu cầu 1a: Sử dụng toàn bộ 11 đặc trưng đầu tiên `Gender`, `10percentage`, `12percentage`, `CollegeTier`, `Degree`, `collegeGPA`, `CollegeCityTier`, `English`, `Logical`, `Quant`, `Domain` (2 điểm) "
   ]
  },
  {
   "cell_type": "code",
   "execution_count": 1401,
   "metadata": {},
   "outputs": [
    {
     "name": "stdout",
     "output_type": "stream",
     "text": [
      "11 hệ số ứng với từng đặc trưng:\n",
      "Gender : -22756.513\n",
      "10percentage : 804.503\n",
      "12percentage : 1294.655\n",
      "CollegeTier : -91781.898\n",
      "Degree : 23182.389\n",
      "collegeGPA : 1437.549\n",
      "CollegeCityTier : -8570.662\n",
      "English : 147.858\n",
      "Logical : 152.888\n",
      "Quant : 117.222\n",
      "Domain : 34552.286\n"
     ]
    }
   ],
   "source": [
    "# Phần code cho yêu cầu 1a\n",
    "lr_1a =  OLSLinearRegression().fit(X_train_1a, y_train)\n",
    "params_1a = round(lr_1a.get_params(), 3)\n",
    "y_pred_1a = lr_1a.predict(X_test_1a)\n",
    "print(\"11 hệ số ứng với từng đặc trưng:\")\n",
    "for i in range(0, 11):\n",
    "    print(X_train_1a.columns[i], \":\", params_1a.values[i])"
   ]
  },
  {
   "cell_type": "code",
   "execution_count": 1402,
   "metadata": {},
   "outputs": [
    {
     "name": "stdout",
     "output_type": "stream",
     "text": [
      "Độ lỗi tuyệt đối trung bình MAE:  104863.778\n"
     ]
    }
   ],
   "source": [
    "# Gọi hàm MAE (tự cài đặt hoặc từ thư viện) trên tập kiểm tra\n",
    "mae_1a = round(mae(y_test, y_pred_1a), 3)\n",
    "print(\"Độ lỗi tuyệt đối trung bình MAE: \", mae_1a)"
   ]
  },
  {
   "cell_type": "markdown",
   "metadata": {},
   "source": [
    "Công thức hồi quy (phần trọng số làm tròn đến 3 chữ số thập phân, ví dụ 0.012345 $\\to$ 0.012)\n",
    "\n",
    "$$\\text{Salary} = \n",
    "- 22756.513 \\times \\text{Gender}\n",
    "+ 804.503 \\times \\text{10percentage}\n",
    "+ 1294.655 \\times \\text{12percentage}\n",
    "- 91781.898 \\times \\text{CollegeTier}\n",
    "+ 23182.389 \\times \\text{Degree}\n",
    "+ 1437.549 \\times \\text{collegeGPA}\n",
    "- 8570.662 \\times \\text{CollegeCityTier}\n",
    "+ 147.858 \\times \\text{English}\n",
    "+ 152.888 \\times \\text{Logical}\n",
    "+ 117.222 \\times \\text{Quant}\n",
    "+ 34552.286 \\times \\text{Domain}$$\n",
    "$$\\text{MAE} = 104863.778$$"
   ]
  },
  {
   "cell_type": "markdown",
   "metadata": {},
   "source": [
    "Công thức hồi quy (phần trọng số làm tròn đến 3 chữ số thập phân, ví dụ 0.012345 $\\to$ 0.012)\n",
    "\n",
    "$$\\text{Salary} = \n",
    "- 22756.513 \\times \\text{Gender}\n",
    "+ 804.503 \\times \\text{10percentage}\n",
    "+ 1294.655 \\times \\text{12percentage}\n",
    "- 91781.898 \\times \\text{CollegeTier}\n",
    "+ 23182.389 \\times \\text{Degree}\n",
    "+ 1437.549 \\times \\text{collegeGPA}\n",
    "- 8570.662 \\times \\text{CollegeCityTier}\n",
    "+ 147.858 \\times \\text{English}\n",
    "+ 152.888 \\times \\text{Logical}\n",
    "+ 117.222 \\times \\text{Quant}\n",
    "+ 34552.286 \\times \\text{Domain}$$\n",
    "$$\\text{MAE} = 104863.778$$"
   ]
  },
  {
   "cell_type": "markdown",
   "metadata": {},
   "source": [
    "# Yêu cầu 1b: Xây dựng mô hình sử dụng duy nhất 1 đặc trưng tính cách với các đặc trưng tính cách gồm `conscientiousness`, `agreeableness`, `extraversion`, `nueroticism`, `openess_to_experience`, tìm mô hình cho kết quả tốt nhất (1 điểm)"
   ]
  },
  {
   "cell_type": "markdown",
   "metadata": {},
   "source": [
    "Lưu ý: khi sử dụng cross-validation, sinh viên cần xáo trộn dữ liệu 1 lần duy nhất và thực hiện trên toàn bộ đặc trưng"
   ]
  },
  {
   "cell_type": "code",
   "execution_count": 1403,
   "metadata": {},
   "outputs": [
    {
     "name": "stdout",
     "output_type": "stream",
     "text": [
      "MAE trung bình của từng đặc trưng:\n",
      "conscientiousness : 306355.6813225526\n",
      "agreeableness : 300840.82958532067\n",
      "extraversion : 306880.51733153645\n",
      "nueroticism : 299194.8697511968\n",
      "openess_to_experience : 303019.4725539618\n",
      "Đặc trưng tốt nhất là: nueroticism\n"
     ]
    }
   ],
   "source": [
    "# Phần code cho yêu cầu 1b\n",
    "# Tìm ra đặc trưng tốt nhất\n",
    "# In ra các kết quả cross-validation như yêu cầu\n",
    "\n",
    "result_1b = []\n",
    "for col in dataset_1b.columns:\n",
    "    if col == 'Salary':\n",
    "        continue\n",
    "    colData = dataset_1b[[col, 'Salary']]#lấy dữ liệu từng cột và cột salary\n",
    "    result_1b.append([col, k_foldCrossValidation(colData, 5)])\n",
    "    \n",
    "#báo cáo kết quả\n",
    "print(\"MAE trung bình của từng đặc trưng:\")\n",
    "for i in range(len(result_1b)):\n",
    "    print(result_1b[i][0], \":\", result_1b[i][1])\n",
    "\n",
    "min = 0\n",
    "for j in range(len(result_1b)):\n",
    "    if result_1b[j][1] < result_1b[min][1]:\n",
    "        min = j\n",
    "print(\"Đặc trưng tốt nhất là:\", result_1b[min][0])"
   ]
  },
  {
   "cell_type": "code",
   "execution_count": 1404,
   "metadata": {},
   "outputs": [
    {
     "name": "stdout",
     "output_type": "stream",
     "text": [
      "Hệ số: -56546.304\n"
     ]
    }
   ],
   "source": [
    "# Huấn luyện lại mô hình best_personality_feature_model với đặc trưng tốt nhất trên toàn bộ tập huấn luyện\n",
    "bpf_X_train = train.iloc[:, 21].to_frame().to_numpy()\n",
    "bpf_y_train = train.iloc[:, -1].to_frame().to_numpy()\n",
    "bpf_X_test = test.iloc[:, 21].to_frame().to_numpy()\n",
    "bpf_y_test = test.iloc[:, -1]\n",
    "\n",
    "bpf_lr = OLSLinearRegression().fit(bpf_X_train, bpf_y_train)\n",
    "bpf_param = bpf_lr.get_params()\n",
    "print(\"Hệ số:\", round(bpf_param[0][0], 3))\n"
   ]
  },
  {
   "cell_type": "code",
   "execution_count": 1405,
   "metadata": {},
   "outputs": [
    {
     "name": "stdout",
     "output_type": "stream",
     "text": [
      "Độ lỗi trung bình: 291019.693\n"
     ]
    }
   ],
   "source": [
    "# Gọi hàm MAE (tự cài đặt hoặc từ thư viện) trên tập kiểm tra với mô hình best_personality_feature_model\n",
    "bpf_pred = bpf_lr.predict(bpf_X_test)\n",
    "bpf_mae = round(mae(bpf_y_test, bpf_pred), 3)\n",
    "print(\"Độ lỗi trung bình:\", bpf_mae)"
   ]
  },
  {
   "cell_type": "markdown",
   "metadata": {},
   "source": [
    "Công thức hồi quy (phần trọng số làm tròn đến 3 chữ số thập phân, ví dụ 0.012345 $\\to$ 0.012)\n",
    "\n",
    "$$\\text{Salary} = -56546.304 \\times \\text{nueroticism}$$\n",
    "$$\\text{MAE} = 291019.693$$"
   ]
  },
  {
   "cell_type": "markdown",
   "metadata": {},
   "source": [
    "# Yêu cầu 1c: Xây dựng mô hình sử dụng duy nhất 1 đặc trưng `English`, `Logical`, `Quant`, tìm mô hình cho kết quả tốt nhất (1 điểm)"
   ]
  },
  {
   "cell_type": "markdown",
   "metadata": {},
   "source": [
    "Lưu ý: khi sử dụng cross-validation, sinh viên cần xáo trộn dữ liệu 1 lần duy nhất và thực hiện trên toàn bộ đặc trưng"
   ]
  },
  {
   "cell_type": "code",
   "execution_count": 1406,
   "metadata": {},
   "outputs": [
    {
     "name": "stdout",
     "output_type": "stream",
     "text": [
      "MAE trung bình của từng đặc trưng:\n",
      "English : 121877.00983056084\n",
      "Logical : 120291.04847563757\n",
      "Quant : 118066.19901927041\n",
      "Đặc trưng tốt nhất là: Quant\n"
     ]
    }
   ],
   "source": [
    "# Phần code cho yêu cầu 1c\n",
    "# Tìm ra đặc trưng tốt nhất\n",
    "# In ra các kết quả cross-validation như yêu cầu\n",
    "\n",
    "#sử dụng lại code của câu 1b\n",
    "result_1c = []\n",
    "for col in dataset_1c.columns:\n",
    "    if col == 'Salary':\n",
    "        continue\n",
    "    colData = dataset_1c[[col, 'Salary']]#lấy dữ liệu từng cột và cột salary\n",
    "    result_1c.append([col, k_foldCrossValidation(colData, 10)])\n",
    "    \n",
    "#báo cáo kết quả\n",
    "print(\"MAE trung bình của từng đặc trưng:\")\n",
    "for i in range(len(result_1c)):\n",
    "    print(result_1c[i][0], \":\", result_1c[i][1])\n",
    "\n",
    "min = 0\n",
    "for j in range(len(result_1c)):\n",
    "    if result_1c[j][1] < result_1c[min][1]:\n",
    "        min = j\n",
    "print(\"Đặc trưng tốt nhất là:\", result_1c[min][0])"
   ]
  },
  {
   "cell_type": "code",
   "execution_count": 1407,
   "metadata": {},
   "outputs": [
    {
     "name": "stdout",
     "output_type": "stream",
     "text": [
      "Hệ số: 585.895\n"
     ]
    }
   ],
   "source": [
    "# Huấn luyện lại mô hình best_skill_feature_model với đặc trưng tốt nhất trên toàn bộ tập huấn luyện\n",
    "\n",
    "bsf_X_train = train.iloc[:, 9].to_frame().to_numpy()\n",
    "bsf_y_train = train.iloc[:, -1].to_frame().to_numpy()\n",
    "bsf_X_test = test.iloc[:, 9].to_frame().to_numpy()\n",
    "bsf_y_test = test.iloc[:, -1].to_numpy()\n",
    "\n",
    "bsf_lr = OLSLinearRegression().fit(bsf_X_train, bsf_y_train)\n",
    "bsf_param = bsf_lr.get_params()\n",
    "print(\"Hệ số:\", round(bsf_param[0][0], 3))\n"
   ]
  },
  {
   "cell_type": "code",
   "execution_count": 1408,
   "metadata": {},
   "outputs": [
    {
     "name": "stdout",
     "output_type": "stream",
     "text": [
      "Độ lỗi trung bình: 106819.578\n"
     ]
    }
   ],
   "source": [
    "# Gọi hàm MAE (tự cài đặt hoặc từ thư viện) trên tập kiểm tra với mô hình best_skill_feature_model\n",
    "\n",
    "bsf_pred = bsf_lr.predict(bsf_X_test)\n",
    "bsf_mae = round(mae(bsf_y_test, bsf_pred), 3)\n",
    "print(\"Độ lỗi trung bình:\", bsf_mae)"
   ]
  },
  {
   "cell_type": "markdown",
   "metadata": {},
   "source": [
    "Công thức hồi quy (phần trọng số làm tròn đến 3 chữ số thập phân, ví dụ 0.012345 $\\to$ 0.012)\n",
    "\n",
    "$$\\text{Salary} = 585.895 \\times \\text{Quant}$$\n",
    "$$\\text{MAE} = 106819.578$$"
   ]
  },
  {
   "cell_type": "markdown",
   "metadata": {},
   "source": [
    "# Yêu cầu 1d: Sinh viên tự xây dựng mô hình, tìm mô hình cho kết quả tốt nhất (3 điểm)"
   ]
  },
  {
   "cell_type": "markdown",
   "metadata": {},
   "source": [
    "Lưu ý: khi sử dụng cross-validation, sinh viên cần xáo trộn dữ liệu 1 lần duy nhất và thực hiện trên toàn bộ $m$ mô hình mà sinh viên thiết kế"
   ]
  },
  {
   "cell_type": "markdown",
   "metadata": {},
   "source": [
    "## Tìm mô hình"
   ]
  },
  {
   "cell_type": "code",
   "execution_count": 1409,
   "metadata": {},
   "outputs": [
    {
     "name": "stdout",
     "output_type": "stream",
     "text": [
      "chỉ tính salary theo 1 đặc trưng(giống câu 1b, 1c nhưng sử dụng hết tất cả đặc trưng), sử dụng k-fold CV xem độ lỗi của từng đặc trưng để chọn\n",
      "MAE trung bình của từng đặc trưng(đã sắp xếp tăng dần):\n",
      "              feature       avg MAE\n",
      "                Quant 118115.851302\n",
      "         10percentage 118781.081046\n",
      "         12percentage 120005.763364\n",
      "              Logical 120268.003125\n",
      "           collegeGPA 121438.106011\n",
      "              English 121904.005019\n",
      "          CollegeTier 133445.151691\n",
      "               Degree 137520.202884\n",
      "               Gender 150360.193652\n",
      "  ComputerProgramming 155965.986499\n",
      "               Domain 175663.303270\n",
      "      CollegeCityTier 251510.454447\n",
      "ElectronicsAndSemicon 257418.401936\n",
      "      ComputerScience 268470.591231\n",
      "          TelecomEngg 290969.868837\n",
      "       MechanicalEngg 297289.428745\n",
      "          nueroticism 299282.692385\n",
      "        agreeableness 300865.169458\n",
      "       ElectricalEngg 301153.117407\n",
      "openess_to_experience 303029.413161\n",
      "            CivilEngg 306120.871302\n",
      "    conscientiousness 306189.800735\n",
      "         extraversion 306937.704385 \n",
      "\n",
      "Mô hình 1: Sử dụng 10 đặc trưng có độ lỗi trung bình ít nhất đầu tiên ở trên\n",
      "Mô hình 2: sử dụng Quant bình phương, 10percentage bình phương\n",
      "Mô hình 3: sử dụng Quant bình phương, 10percentage bình phương, 12percentage bình phương\n"
     ]
    }
   ],
   "source": [
    "# Trình bày các phần tìm ra mô hình\n",
    "\n",
    "print(\"chỉ tính salary theo 1 đặc trưng(giống câu 1b, 1c nhưng sử dụng hết tất cả đặc trưng), sử dụng k-fold CV xem độ lỗi của từng đặc trưng để chọn\")\n",
    "#sử dụng lại code của câu 1b, 1c\n",
    "result = []\n",
    "for col in train.columns:\n",
    "    if col == 'Salary':\n",
    "        continue\n",
    "    colData = train[[col, 'Salary']]\n",
    "    result.append([col, k_foldCrossValidation(colData, 10)])\n",
    "    \n",
    "print(\"MAE trung bình của từng đặc trưng(đã sắp xếp tăng dần):\")\n",
    "result = pd.DataFrame(result, columns=['feature', 'avg MAE'])\n",
    "result = result.sort_values(by = 'avg MAE')\n",
    "print(result.to_string(index=False),\"\\n\")\n",
    "\n",
    "print(\"Mô hình 1: Sử dụng 10 đặc trưng có độ lỗi trung bình ít nhất đầu tiên ở trên\")\n",
    "print(\"Mô hình 2: sử dụng Quant bình phương, 10percentage bình phương\")\n",
    "print(\"Mô hình 3: sử dụng Quant bình phương, 10percentage bình phương, 12percentage bình phương\")"
   ]
  },
  {
   "cell_type": "markdown",
   "metadata": {},
   "source": [
    "## Thử nghiệm, so sánh các mô hình"
   ]
  },
  {
   "cell_type": "code",
   "execution_count": 1410,
   "metadata": {},
   "outputs": [
    {
     "name": "stdout",
     "output_type": "stream",
     "text": [
      "Độ lỗi trung bình của các mô hình khi sử dụng k-fold Cross Validation:\n",
      "MAE trung bình của từng mô hình:\n",
      "Mô hình 1 : 113016.48648784915\n",
      "Mô hình 2 : 115840.03338759982\n",
      "Mô hình 3 : 115386.4382907683\n",
      "Mô hình tốt nhất là: Mô hình 1\n"
     ]
    }
   ],
   "source": [
    "# Phần code cho yêu cầu 1d\n",
    "# Tìm ra mô hình tốt nhất (tự thiết kế bởi sinh viên)\n",
    "# In ra các kết quả cross-validation như yêu cầu\n",
    "print(\"Độ lỗi trung bình của các mô hình khi sử dụng k-fold Cross Validation:\")\n",
    "result_1d = []\n",
    "\n",
    "dataset_1d_1 = train[['Quant', '10percentage', '12percentage', 'Logical', 'collegeGPA', 'English', 'CollegeTier', 'Degree', 'Gender', 'ComputerProgramming', 'Salary']]\n",
    "result_1d.append([\"Mô hình 1\", k_foldCrossValidation(dataset_1d_1, 10)])\n",
    "\n",
    "dataset_1d_2 = pd.concat((train_Quant_col**2, train_10percentage_col**2, train_Salary_col), axis = 1)\n",
    "result_1d.append([\"Mô hình 2\", k_foldCrossValidation(dataset_1d_2, 10)])\n",
    "\n",
    "dataset_1d_3 = pd.concat((train_Quant_col**2, train_10percentage_col**2, train_12percentage_col**2, train_Salary_col), axis = 1)\n",
    "result_1d.append([\"Mô hình 3\", k_foldCrossValidation(dataset_1d_3, 10)])\n",
    "\n",
    "print(\"MAE trung bình của từng mô hình:\")\n",
    "for i in range(len(result_1d)):\n",
    "    print(result_1d[i][0], \":\", result_1d[i][1])\n",
    "\n",
    "min = 0\n",
    "for j in range(len(result_1d)):\n",
    "    if result_1d[j][1] < result_1d[min][1]:\n",
    "        min = j\n",
    "print(\"Mô hình tốt nhất là:\", result_1d[min][0])"
   ]
  },
  {
   "cell_type": "code",
   "execution_count": 1411,
   "metadata": {},
   "outputs": [
    {
     "name": "stdout",
     "output_type": "stream",
     "text": [
      "Quant : 133.45\n",
      "10percentage : 899.534\n",
      "12percentage : 1146.371\n",
      "Logical : 149.242\n",
      "collegeGPA : 1307.67\n",
      "English : 136.434\n"
     ]
    }
   ],
   "source": [
    "# Huấn luyện lại mô hình my_best_model trên toàn bộ tập huấn luyện\n",
    "lr_1d = OLSLinearRegression().fit(X_train_1d_1, y_train)\n",
    "params_1d = round(lr_1d.get_params(), 3)\n",
    "y_pred_1d_1 = lr_1d.predict(X_test_1d_1)\n",
    "for i in range(0, 6):\n",
    "    print(X_train_1d_1.columns[i], \":\", params_1d.values[i])"
   ]
  },
  {
   "cell_type": "code",
   "execution_count": 1412,
   "metadata": {},
   "outputs": [
    {
     "name": "stdout",
     "output_type": "stream",
     "text": [
      "Độ lỗi MAE trung bình 104621.272\n"
     ]
    }
   ],
   "source": [
    "# Gọi hàm MAE (tự cài đặt hoặc từ thư viện) trên tập kiểm tra với mô hình my_best_model\n",
    "mae_1d_1 = mae(y_test, y_pred_1d_1)\n",
    "print(\"Độ lỗi MAE trung bình\", round(mae_1d_1, 3))"
   ]
  },
  {
   "cell_type": "markdown",
   "metadata": {},
   "source": [
    "Công thức hồi quy (phần trọng số làm tròn đến 3 chữ số thập phân, ví dụ 0.012345 $\\to$ 0.012)\n",
    "\n",
    "$$\\text{Salary} = \n",
    "133.45 \\times \\text{Quant}\n",
    "+ 899.534 \\times \\text{10percentage}\n",
    "+ 1146.371 \\times \\text{12percentage}\n",
    "+ 149.242 \\times \\text{Logical}\n",
    "+ 1307.67 \\times \\text{collegeGPA}\n",
    "+ 136.434 \\times \\text{English}\n",
    "- 89598.216 \\times \\text{CollegeTier}\n",
    "+ 16709.546 \\times \\text{Degree}\n",
    "- 23151.196 \\times \\text{Gender}\n",
    "+ 85.302 \\times \\text{ComputerProgramming}$$\n",
    "$$\\text{MAE} = 104621.272$$"
   ]
  }
 ],
 "metadata": {
  "kernelspec": {
   "display_name": "Python 3.8.5 ('base')",
   "language": "python",
   "name": "python3"
  },
  "language_info": {
   "codemirror_mode": {
    "name": "ipython",
    "version": 3
   },
   "file_extension": ".py",
   "mimetype": "text/x-python",
   "name": "python",
   "nbconvert_exporter": "python",
   "pygments_lexer": "ipython3",
   "version": "3.10.9"
  },
  "orig_nbformat": 4,
  "vscode": {
   "interpreter": {
    "hash": "15af99fd1a1a3f0a3416ea421564e792a8676a13670c2eed127d89ab0518a27b"
   }
  }
 },
 "nbformat": 4,
 "nbformat_minor": 2
}
